{
 "cells": [
  {
   "cell_type": "markdown",
   "id": "bd838208",
   "metadata": {},
   "source": [
    "# 4.2 Importing Libraries and Python Data Types"
   ]
  },
  {
   "cell_type": "markdown",
   "id": "ffd73a39",
   "metadata": {},
   "source": [
    "## This script contains the following points:\n",
    "\n",
    "### 01. Importing Libraries\n",
    "### 02. Data Types"
   ]
  },
  {
   "cell_type": "markdown",
   "id": "bbf61be4",
   "metadata": {},
   "source": [
    "# 01. Importing Libraries"
   ]
  },
  {
   "cell_type": "code",
   "execution_count": 1,
   "id": "76219862",
   "metadata": {},
   "outputs": [],
   "source": [
    "# Import libraries\n",
    "import pandas as pd\n",
    "import numpy as np\n",
    "import os"
   ]
  },
  {
   "cell_type": "markdown",
   "id": "59b461b5",
   "metadata": {},
   "source": [
    "# 02. Data Types"
   ]
  },
  {
   "cell_type": "markdown",
   "id": "2e18bc4e",
   "metadata": {},
   "source": [
    "## Code three different ways to reach 100"
   ]
  },
  {
   "cell_type": "code",
   "execution_count": 1,
   "id": "5a0d28b1",
   "metadata": {},
   "outputs": [],
   "source": [
    "# First way to 100\n",
    "x = 10"
   ]
  },
  {
   "cell_type": "code",
   "execution_count": 2,
   "id": "43b29b8d",
   "metadata": {},
   "outputs": [],
   "source": [
    "y = 90"
   ]
  },
  {
   "cell_type": "code",
   "execution_count": 3,
   "id": "95bd1bed",
   "metadata": {},
   "outputs": [
    {
     "data": {
      "text/plain": [
       "100"
      ]
     },
     "execution_count": 3,
     "metadata": {},
     "output_type": "execute_result"
    }
   ],
   "source": [
    "x + y"
   ]
  },
  {
   "cell_type": "code",
   "execution_count": 4,
   "id": "7e0f6f15",
   "metadata": {},
   "outputs": [],
   "source": [
    "# Second way to 100\n",
    "x = x + 40"
   ]
  },
  {
   "cell_type": "code",
   "execution_count": 5,
   "id": "c78c7b2e",
   "metadata": {},
   "outputs": [],
   "source": [
    "y = y - 40"
   ]
  },
  {
   "cell_type": "code",
   "execution_count": 6,
   "id": "2fbeb788",
   "metadata": {},
   "outputs": [
    {
     "data": {
      "text/plain": [
       "100"
      ]
     },
     "execution_count": 6,
     "metadata": {},
     "output_type": "execute_result"
    }
   ],
   "source": [
    "x + y"
   ]
  },
  {
   "cell_type": "code",
   "execution_count": 7,
   "id": "50b664ec",
   "metadata": {},
   "outputs": [],
   "source": [
    "# Third way to 100\n",
    "x = x + 100"
   ]
  },
  {
   "cell_type": "code",
   "execution_count": 8,
   "id": "a64f9dfe",
   "metadata": {},
   "outputs": [
    {
     "data": {
      "text/plain": [
       "100"
      ]
     },
     "execution_count": 8,
     "metadata": {},
     "output_type": "execute_result"
    }
   ],
   "source": [
    "x - y"
   ]
  },
  {
   "cell_type": "markdown",
   "id": "9b07a4c5",
   "metadata": {},
   "source": [
    "## Code two floating-point variables and divide them"
   ]
  },
  {
   "cell_type": "code",
   "execution_count": 9,
   "id": "84d5ac78",
   "metadata": {},
   "outputs": [],
   "source": [
    "# Number for mole\n",
    "m = 6.022"
   ]
  },
  {
   "cell_type": "code",
   "execution_count": 10,
   "id": "f4f9abe8",
   "metadata": {},
   "outputs": [],
   "source": [
    "# Number for pi\n",
    "p = 3.14"
   ]
  },
  {
   "cell_type": "code",
   "execution_count": 11,
   "id": "98d42db8",
   "metadata": {},
   "outputs": [
    {
     "data": {
      "text/plain": [
       "1.9178343949044585"
      ]
     },
     "execution_count": 11,
     "metadata": {},
     "output_type": "execute_result"
    }
   ],
   "source": [
    "m / p"
   ]
  },
  {
   "cell_type": "markdown",
   "id": "c5ce7166",
   "metadata": {},
   "source": [
    "## Construct a short word made of separate strings"
   ]
  },
  {
   "cell_type": "code",
   "execution_count": 12,
   "id": "014138eb",
   "metadata": {},
   "outputs": [],
   "source": [
    "a = 'jamb'"
   ]
  },
  {
   "cell_type": "code",
   "execution_count": 13,
   "id": "5204fda9",
   "metadata": {},
   "outputs": [],
   "source": [
    "b = 'oree'"
   ]
  },
  {
   "cell_type": "code",
   "execution_count": 14,
   "id": "234ac035",
   "metadata": {},
   "outputs": [
    {
     "data": {
      "text/plain": [
       "'jamboree'"
      ]
     },
     "execution_count": 14,
     "metadata": {},
     "output_type": "execute_result"
    }
   ],
   "source": [
    "a + b"
   ]
  },
  {
   "cell_type": "markdown",
   "id": "46063301",
   "metadata": {},
   "source": [
    "## Construct two short sentences made of separate strings"
   ]
  },
  {
   "cell_type": "code",
   "execution_count": 15,
   "id": "80f355d6",
   "metadata": {},
   "outputs": [],
   "source": [
    "r = 'A pangram is a unique sentence in which every letter of the alphabet is used at least once. For example: '"
   ]
  },
  {
   "cell_type": "code",
   "execution_count": 16,
   "id": "ae88937a",
   "metadata": {},
   "outputs": [],
   "source": [
    "# Example pangram sentence\n",
    "s = 'The quick brown fox jumps over a lazy dog.'"
   ]
  },
  {
   "cell_type": "code",
   "execution_count": 17,
   "id": "4d852620",
   "metadata": {},
   "outputs": [
    {
     "data": {
      "text/plain": [
       "'A pangram is a unique sentence in which every letter of the alphabet is used at least once. For example: The quick brown fox jumps over a lazy dog.'"
      ]
     },
     "execution_count": 17,
     "metadata": {},
     "output_type": "execute_result"
    }
   ],
   "source": [
    "r + s"
   ]
  },
  {
   "cell_type": "markdown",
   "id": "245efed9",
   "metadata": {},
   "source": [
    "## Write a code that makes a string appear 100 times"
   ]
  },
  {
   "cell_type": "code",
   "execution_count": 18,
   "id": "2fb8275e",
   "metadata": {},
   "outputs": [
    {
     "data": {
      "text/plain": [
       "'jamboreejamboreejamboreejamboreejamboreejamboreejamboreejamboreejamboreejamboreejamboreejamboreejamboreejamboreejamboreejamboreejamboreejamboreejamboreejamboreejamboreejamboreejamboreejamboreejamboreejamboreejamboreejamboreejamboreejamboreejamboreejamboreejamboreejamboreejamboreejamboreejamboreejamboreejamboreejamboreejamboreejamboreejamboreejamboreejamboreejamboreejamboreejamboreejamboreejamboreejamboreejamboreejamboreejamboreejamboreejamboreejamboreejamboreejamboreejamboreejamboreejamboreejamboreejamboreejamboreejamboreejamboreejamboreejamboreejamboreejamboreejamboreejamboreejamboreejamboreejamboreejamboreejamboreejamboreejamboreejamboreejamboreejamboreejamboreejamboreejamboreejamboreejamboreejamboreejamboreejamboreejamboreejamboreejamboreejamboreejamboreejamboreejamboreejamboreejamboree'"
      ]
     },
     "execution_count": 18,
     "metadata": {},
     "output_type": "execute_result"
    }
   ],
   "source": [
    "(a + b) * 100"
   ]
  },
  {
   "cell_type": "code",
   "execution_count": null,
   "id": "04aed406",
   "metadata": {},
   "outputs": [],
   "source": []
  }
 ],
 "metadata": {
  "kernelspec": {
   "display_name": "Python 3 (ipykernel)",
   "language": "python",
   "name": "python3"
  },
  "language_info": {
   "codemirror_mode": {
    "name": "ipython",
    "version": 3
   },
   "file_extension": ".py",
   "mimetype": "text/x-python",
   "name": "python",
   "nbconvert_exporter": "python",
   "pygments_lexer": "ipython3",
   "version": "3.11.7"
  }
 },
 "nbformat": 4,
 "nbformat_minor": 5
}
